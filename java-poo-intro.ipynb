{
 "cells": [
  {
   "cell_type": "markdown",
   "id": "595c34ca-484b-4dbf-8a58-56143e89f647",
   "metadata": {},
   "source": [
    "# POO - Introducció"
   ]
  },
  {
   "cell_type": "code",
   "execution_count": null,
   "id": "6bfbe957-28bf-40ea-9672-71764e912e31",
   "metadata": {},
   "outputs": [],
   "source": [
    "//Estoy desarrollando un programa que\n",
    "//deberá gestionar las matriculas y notas\n",
    "//de los alumnos de un Instituto.\n",
    "\n",
    "//Información de la estudiante Lina:\n",
    "\n",
    "String notaAlumno = \"8.6\";\n",
    "String nombreAlumno = \"Lina\";\n",
    "String apellido1Alumno = \"Ramírez\";\n",
    "String matriculaAlumno = \"ENR023\";\n",
    "String emailAlumno = \"lina23@pluralcamp.com\";\n",
    "String cursoMatriculadoAlumno = \"Primero de DAW\";\n",
    "String edadAlumno = \"34\";\n",
    "String colorPelo = \"moreno\";\n",
    "\n",
    "String[] alumno = {   };\n",
    "\n",
    "double notaAlumno = 9.4;\n",
    "String nombreAlumno = \"Carles\";\n",
    "String apellid1Alumno = \"Trens\";\n",
    "String matriculaAlumno = \"ENR024\";\n",
    "String emailAlumno = \"carles23@pluralcamp.com\";\n",
    "String cursoMatriculadoAlumno = \"Primero d'ASIX\";\n",
    "int edadAlumno = 26;\n",
    "\n"
   ]
  },
  {
   "cell_type": "markdown",
   "id": "7957a023-d373-4b55-b88f-a199fbf60f3f",
   "metadata": {},
   "source": [
    "### ABSTRACCIÓN\n",
    "\n",
    "> Abstraer y representar (con código java) un objeto del mundo real.\n",
    "\n",
    "Un objeto del mundo real puede ser un objeto físico (pelota, coche, casa, libro, persona...)\n",
    "o un objeto imaginario o conceptual (idea, partido, ...)."
   ]
  },
  {
   "cell_type": "code",
   "execution_count": 2,
   "id": "bfdb574a-f1b2-48ae-a95a-e34629865098",
   "metadata": {
    "execution": {
     "iopub.execute_input": "2023-04-28T12:16+0000",
     "iopub.status.busy": "2023-04-28T12:16+0000",
     "iopub.status.idle": "2023-04-28T12:16+0000",
     "shell.execute_reply": "2023-04-28T12:16+0000"
    },
    "tags": []
   },
   "outputs": [
    {
     "name": "stdout",
     "output_type": "stream",
     "text": [
      "Lina\n",
      "ERN023\n",
      "lina23@pluralcamp.com\n",
      "34\n",
      "Carles\n",
      "ERN024\n",
      "carles23@pluralcamp.com\n",
      "26\n"
     ]
    }
   ],
   "source": [
    "class Student {    \n",
    "    String nombre;\n",
    "    String matricula;\n",
    "    String email;\n",
    "    int edad;    \n",
    "}\n",
    "\n",
    "\n",
    "Student alumno = new Student();\n",
    "alumno.nombre = \"Lina\";\n",
    "alumno.matricula = \"ERN023\";\n",
    "alumno.email = \"lina23@pluralcamp.com\";\n",
    "alumno.edad = 34;\n",
    "\n",
    "println(alumno.nombre);\n",
    "println(alumno.matricula);\n",
    "println(alumno.email);\n",
    "println(alumno.edad);\n",
    "\n",
    "Student alumno2 = new Student();\n",
    "alumno2.nombre = \"Carles\";\n",
    "alumno2.matricula = \"ERN024\";\n",
    "alumno2.email = \"carles23@pluralcamp.com\";\n",
    "alumno2.edad = 26;\n",
    "\n",
    "println(alumno2.nombre);\n",
    "println(alumno2.matricula);\n",
    "println(alumno2.email);\n",
    "println(alumno2.edad);\n",
    "//la variable alumno guarda un alumno concreto:\n",
    "//decimos que guarda una instancia o objeto de Student"
   ]
  }
 ],
 "metadata": {
  "kernelspec": {
   "display_name": "Java",
   "language": "java",
   "name": "java"
  },
  "language_info": {
   "codemirror_mode": "java",
   "file_extension": ".jshell",
   "mimetype": "text/x-java-source",
   "name": "Java",
   "pygments_lexer": "java",
   "version": "17.0.6+10-LTS"
  }
 },
 "nbformat": 4,
 "nbformat_minor": 5
}
