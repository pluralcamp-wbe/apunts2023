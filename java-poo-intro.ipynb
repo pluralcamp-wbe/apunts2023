{
 "cells": [
  {
   "cell_type": "markdown",
   "id": "595c34ca-484b-4dbf-8a58-56143e89f647",
   "metadata": {},
   "source": [
    "# POO - Introducció"
   ]
  },
  {
   "cell_type": "code",
   "execution_count": null,
   "id": "6bfbe957-28bf-40ea-9672-71764e912e31",
   "metadata": {},
   "outputs": [],
   "source": [
    "//Estoy desarrollando un programa que\n",
    "//deberá gestionar las matriculas y notas\n",
    "//de los alumnos de un Instituto.\n",
    "\n",
    "//Información de la estudiante Lina:\n",
    "\n",
    "String notaAlumno = \"8.6\";\n",
    "String nombreAlumno = \"Lina\";\n",
    "String apellido1Alumno = \"Ramírez\";\n",
    "String matriculaAlumno = \"ENR023\";\n",
    "String emailAlumno = \"lina23@pluralcamp.com\";\n",
    "String cursoMatriculadoAlumno = \"Primero de DAW\";\n",
    "String edadAlumno = \"34\";\n",
    "String colorPelo = \"moreno\";\n",
    "\n",
    "String[] alumno = {   };\n",
    "\n",
    "double notaAlumno = 9.4;\n",
    "String nombreAlumno = \"Carles\";\n",
    "String apellid1Alumno = \"Trens\";\n",
    "String matriculaAlumno = \"ENR024\";\n",
    "String emailAlumno = \"carles23@pluralcamp.com\";\n",
    "String cursoMatriculadoAlumno = \"Primero d'ASIX\";\n",
    "int edadAlumno = 26;\n",
    "\n"
   ]
  },
  {
   "cell_type": "markdown",
   "id": "7957a023-d373-4b55-b88f-a199fbf60f3f",
   "metadata": {},
   "source": [
    "### ABSTRACCIÓN\n",
    "\n",
    "> Abstraer y representar (con código java) un objeto del mundo real.\n",
    "\n",
    "Un objeto del mundo real puede ser un objeto físico (pelota, coche, casa, libro, persona...)\n",
    "o un objeto imaginario o conceptual (idea, partido, ...)."
   ]
  },
  {
   "cell_type": "code",
   "execution_count": null,
   "id": "bfdb574a-f1b2-48ae-a95a-e34629865098",
   "metadata": {
    "tags": []
   },
   "outputs": [],
   "source": [
    "class Student {  \n",
    "    \n",
    "    String nombre;\n",
    "    String matricula;\n",
    "    String email;\n",
    "    int edad;   \n",
    "\n",
    "    void print(){\n",
    "        println(\"\");\n",
    "        printf(\"Nombre: %s %n\", this.nombre);\n",
    "        printf(\"Matricula: %s %n\", this.matricula);\n",
    "        printf(\"Email: %s %n\", this.email);\n",
    "        printf(\"Edad: %d %n\", this.edad);\n",
    "    }      \n",
    "}\n",
    "\n",
    "\n",
    "\n",
    "Student alumno = new Student();\n",
    "alumno.nombre = \"Lina\";\n",
    "alumno.matricula = \"ERN023\";\n",
    "alumno.email = \"lina23@pluralcamp.com\";\n",
    "alumno.edad = 34;\n",
    "\n",
    "//printStudent(alumno);\n",
    "//alumno.print();\n",
    "\n",
    "Student alumno2 = new Student();\n",
    "alumno2.nombre = \"Carles\";\n",
    "alumno2.matricula = \"ERN024\";\n",
    "alumno2.email = \"carles23@pluralcamp.com\";\n",
    "alumno2.edad = 26;\n",
    "//printStudent(alumno2);\n",
    "//alumno2.print();\n",
    "\n",
    "//la variable alumno guarda un alumno concreto:\n",
    "//decimos que guarda una instancia o objeto de Student\n",
    "\n",
    "Student alumne3 = alumno2;\n",
    "alumne3.nombre = \"Pepet\";\n",
    "//printStudent(alumne3);\n",
    "//alumne3.print();\n",
    "\n",
    "//Creeu una funció que donat un estudiant (Student)\n",
    "//IMPRIMIRA per pantalla tots els seus atributs\n",
    "\n",
    "//Fiquem els alumnes en un array d'estudiants:\n",
    "\n",
    "Student[] students = {alumno, alumno2, alumne3, new Student()};\n",
    "\n",
    "students[3].nombre = \"Annuska\";\n",
    "students[3].email = \"annuska@pluralcamp.com\";\n",
    "\n",
    "println(\"\");\n",
    "println(\"Amb un for clàssic: ------\");\n",
    "for(int index = 0; index < students.length; index++)\n",
    "    students[index].print();\n",
    "\n",
    "println(\"\");\n",
    "println(\"Amb un while: ------\");\n",
    "int indice = 0;\n",
    "while(indice < students.length){\n",
    "    Student student = students[indice];\n",
    "    student.print();\n",
    "    indice++;\n",
    "}\n",
    "\n",
    "println(\"\");\n",
    "println(\"Amb un foreach: ------\");\n",
    "for(Student student : students){\n",
    "    student.print();\n",
    "}\n",
    "\n",
    "\n",
    "new Student();"
   ]
  },
  {
   "cell_type": "code",
   "execution_count": null,
   "id": "634fce5c-5b9b-4834-983f-9a73ddbb3f2b",
   "metadata": {
    "tags": []
   },
   "outputs": [],
   "source": [
    "Student newStudent = new Student();\n",
    "newStudent.nombre = \"Anna\";\n",
    "//printStudent(newStudent);\n",
    "newStudent.print();"
   ]
  },
  {
   "cell_type": "code",
   "execution_count": null,
   "id": "06aad4e7-3ea0-43ec-99a4-2419e0de1268",
   "metadata": {
    "tags": []
   },
   "outputs": [],
   "source": [
    "int n = 6;\n",
    "int m = n;\n",
    "\n",
    "println(n);\n",
    "n = 4;\n",
    "println(m);"
   ]
  },
  {
   "cell_type": "code",
   "execution_count": null,
   "id": "6f2abcfd-e1a8-4d65-8401-3a6f2ce5aea6",
   "metadata": {
    "tags": []
   },
   "outputs": [],
   "source": [
    "int[] puntuaciones;\n",
    "\n",
    "puntuaciones = new int[]{4, 6, 3, 1, 7, 3, 8, 2};\n",
    "\n",
    "for(int punt : puntuaciones)\n",
    "    println(punt);"
   ]
  },
  {
   "cell_type": "code",
   "execution_count": null,
   "id": "a70e1f49-504b-4bbd-a30e-4082df0ac8ed",
   "metadata": {
    "tags": []
   },
   "outputs": [],
   "source": [
    "double[] temperaturas;\n",
    "\n",
    "temperaturas = new double[10];\n",
    "\n",
    "temperaturas[4] = 23.5;\n",
    "\n",
    "for(double temp : temperaturas)\n",
    "    println(temp);\n",
    "\n"
   ]
  },
  {
   "cell_type": "code",
   "execution_count": null,
   "id": "828231c1-a585-401d-9512-042513e53f77",
   "metadata": {
    "tags": []
   },
   "outputs": [],
   "source": [
    "Student[] estudiants = new Student[5]; //no es new Student();\n",
    "\n",
    "estudiants[0] = new Student();\n",
    "\n",
    "println(Arrays.toString(estudiants));\n",
    "\n",
    "for(Student estu : estudiants)\n",
    "    estu.print();"
   ]
  },
  {
   "cell_type": "code",
   "execution_count": 4,
   "id": "6feaa6bd-8988-4856-a0ef-ffc3e87e2d3d",
   "metadata": {
    "execution": {
     "iopub.execute_input": "2023-05-02T10:38+0000",
     "iopub.status.busy": "2023-05-02T10:38+0000",
     "iopub.status.idle": "2023-05-02T10:38+0000",
     "shell.execute_reply": "2023-05-02T10:38+0000"
    },
    "tags": []
   },
   "outputs": [
    {
     "name": "stdout",
     "output_type": "stream",
     "text": [
      "Minino fa Miauuuuu... \n",
      "Minino is snoring: Grrrrrgrr... \n",
      "Minino is sleeping: zzzzzz.... \n"
     ]
    }
   ],
   "source": [
    "//Creeu una classe (plantilla) para hacer una abstracción de un GATO\n",
    "\n",
    "class Cat {  \n",
    "    String name;\n",
    "    String color;\n",
    "    int age;\n",
    "    char gender; //'M' per a masculí, o 'F' per a femení\n",
    "    \n",
    "    void speak(){\n",
    "        printf(\"%s fa Miauuuuu... %n\", this.name);\n",
    "    }\n",
    "    \n",
    "    void snore(){\n",
    "        printf(\"%s is snoring: Grrrrrgrr... %n\", this.name);\n",
    "    }\n",
    "    \n",
    "    void sleep(){\n",
    "        printf(\"%s is sleeping: zzzzzz.... %n\", this.name);\n",
    "    }\n",
    "}\n",
    "\n",
    "Cat gat = new Cat();\n",
    "\n",
    "gat.name = \"Minino\";\n",
    "\n",
    "gat.speak();\n",
    "gat.snore();\n",
    "gat.sleep();\n"
   ]
  },
  {
   "cell_type": "code",
   "execution_count": 8,
   "id": "e7d4befd-2aa2-478c-9467-1eef38403383",
   "metadata": {
    "execution": {
     "iopub.execute_input": "2023-05-02T10:57+0000",
     "iopub.status.busy": "2023-05-02T10:57+0000",
     "iopub.status.idle": "2023-05-02T10:57+0000",
     "shell.execute_reply": "2023-05-02T10:57+0000"
    },
    "tags": []
   },
   "outputs": [
    {
     "name": "stdout",
     "output_type": "stream",
     "text": [
      "Matilda fa Moo \n",
      "Matilda menja herba \n",
      "700 pesa \n"
     ]
    }
   ],
   "source": [
    "class Cow {\n",
    "    String name;\n",
    "    String race;\n",
    "    int age; \n",
    "    int weight;\n",
    "    Color color;\n",
    "   \n",
    "    void moo(){\n",
    "        printf(\"%s fa Moo %n\", this.name);\n",
    "    }\n",
    "    \n",
    "    void eat(){\n",
    "        printf(\"%s menja herba %n\", this.name);\n",
    "    }\n",
    "    \n",
    "    void pes(){\n",
    "        printf(\"%d pesa %n\", this.weight);\n",
    "    }\n",
    "\n",
    "}\n",
    "\n",
    "Cow cow1 = new Cow();\n",
    "\n",
    "cow1.name = \"Matilda\";\n",
    "cow1.race = \"lletera\";\n",
    "cow1.age = 5;\n",
    "cow1.weight = 700;\n",
    "cow1.color = \"Coral: rgb(255, 127, 80)\";\n",
    "\n",
    "cow1.moo();\n",
    "cow1.eat();\n",
    "cow1.pes();"
   ]
  },
  {
   "cell_type": "code",
   "execution_count": 14,
   "id": "390e5378-ff21-4e84-a561-86c95e48b125",
   "metadata": {
    "execution": {
     "iopub.execute_input": "2023-05-02T11:16+0000",
     "iopub.status.busy": "2023-05-02T11:16+0000",
     "iopub.status.idle": "2023-05-02T11:16+0000",
     "shell.execute_reply": "2023-05-02T11:16+0000"
    },
    "tags": []
   },
   "outputs": [
    {
     "name": "stdout",
     "output_type": "stream",
     "text": [
      "El Nisan hace rummmm \n",
      "El Nisan acaba de chocar \n",
      "El cotxe es cala: NYEEEC\n"
     ]
    }
   ],
   "source": [
    "class Car {\n",
    "    String marca;\n",
    "    String modelo;\n",
    "    int caballos;\n",
    "    int year;\n",
    "    boolean ITV;\n",
    "    String color;\n",
    "\n",
    "    void sonido(){\n",
    "        printf(\"El %s hace rummmm %n\", this.marca);\n",
    "    }\n",
    "    \n",
    "    void chocar(){\n",
    "        printf(\"El %s acaba de chocar %n\", this.marca);\n",
    "    }\n",
    "\n",
    "    void arrencar(){\n",
    "        if (ITV == true)\n",
    "            System.out.println(\"El cotxe arranca: BRUMMM\");\n",
    "    \n",
    "        if (ITV == false)\n",
    "            System.out.println(\"El cotxe es cala: NYEEEC\");\n",
    "    }\n",
    "}\n",
    "\n",
    "Car coche = new Car();\n",
    "coche.marca = \"Nisan\";\n",
    "//coche.ITV = false;\n",
    "coche.sonido();\n",
    "coche.chocar();\n",
    "coche.arrencar();\n",
    "\n"
   ]
  },
  {
   "cell_type": "code",
   "execution_count": 19,
   "id": "beaed184-ea51-4adc-bed1-1a1cd98e54bf",
   "metadata": {
    "execution": {
     "iopub.execute_input": "2023-05-02T11:34+0000",
     "iopub.status.busy": "2023-05-02T11:34+0000",
     "iopub.status.idle": "2023-05-02T11:34+0000",
     "shell.execute_reply": "2023-05-02T11:34+0000"
    },
    "tags": []
   },
   "outputs": [
    {
     "name": "stdout",
     "output_type": "stream",
     "text": [
      "Bruummm....\n"
     ]
    }
   ],
   "source": [
    "class Byke {\n",
    "\n",
    "    String state;\n",
    "    String color;\n",
    "    \n",
    "    void sound(){\n",
    "        \n",
    "        if(this.state == \"good\"){\n",
    "        \n",
    "            println( \"Bruummm....\");\n",
    "        } \n",
    "        else {\n",
    "            println(\" Crick crick\");\n",
    "        }\n",
    "\n",
    "    }\n",
    "}\n",
    "\n",
    "Byke bici = new Byke();\n",
    "bici.state = \"good\";\n",
    "bici.sound();"
   ]
  },
  {
   "cell_type": "code",
   "execution_count": 26,
   "id": "37cfc250-9965-4909-9cfd-47d65e257311",
   "metadata": {
    "execution": {
     "iopub.execute_input": "2023-05-02T12:09+0000",
     "iopub.status.busy": "2023-05-02T12:09+0000",
     "iopub.status.idle": "2023-05-02T12:09+0000",
     "shell.execute_reply": "2023-05-02T12:09+0000"
    },
    "tags": []
   },
   "outputs": [
    {
     "name": "stdout",
     "output_type": "stream",
     "text": [
      "Color Coral rgb(255,127,80)"
     ]
    }
   ],
   "source": [
    "class Color {\n",
    "    \n",
    "    //Red, Green, Blue from 0 to 255\n",
    "    int red, green, blue;\n",
    "    String name;\n",
    "\n",
    "    public String toString(){\n",
    "        return \"Color \" + this.name + \" rgb(\" +\n",
    "               this.red + \",\" + this.green + \",\" + this.blue + \")\";\n",
    "    }\n",
    "}\n",
    "Color coral = new Color();\n",
    "coral.name = \"Coral\";\n",
    "coral.red = 255;\n",
    "coral.green = 127;\n",
    "coral.blue = 80;\n",
    "\n",
    "print(coral.toString());"
   ]
  }
 ],
 "metadata": {
  "kernelspec": {
   "display_name": "Java",
   "language": "java",
   "name": "java"
  },
  "language_info": {
   "codemirror_mode": "java",
   "file_extension": ".jshell",
   "mimetype": "text/x-java-source",
   "name": "Java",
   "pygments_lexer": "java",
   "version": "17.0.6+10-LTS"
  }
 },
 "nbformat": 4,
 "nbformat_minor": 5
}
