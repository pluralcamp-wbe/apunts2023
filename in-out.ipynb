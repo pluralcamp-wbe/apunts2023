{
 "cells": [
  {
   "cell_type": "markdown",
   "id": "920b1377-77e0-4673-947d-8cd2948e8bee",
   "metadata": {},
   "source": [
    "# Parámetros de entrada y salida"
   ]
  },
  {
   "cell_type": "code",
   "execution_count": 13,
   "id": "f3d9dbb0-b4dc-4ab1-9a8f-d62658eedee8",
   "metadata": {
    "execution": {
     "iopub.execute_input": "2023-05-17T07:40+0000",
     "iopub.status.busy": "2023-05-17T07:40+0000",
     "iopub.status.idle": "2023-05-17T07:40+0000",
     "shell.execute_reply": "2023-05-17T07:40+0000"
    },
    "tags": []
   },
   "outputs": [
    {
     "name": "stdout",
     "output_type": "stream",
     "text": [
      "32"
     ]
    }
   ],
   "source": [
    "int power(int b, int exp){\n",
    "    int result = 1;\n",
    "    for(int i = 1; i <= exp; i++){\n",
    "        result = result * b;\n",
    "    }\n",
    "    return result;\n",
    "}\n",
    "\n",
    "int r = power(2,5);\n",
    "print(r);"
   ]
  },
  {
   "cell_type": "code",
   "execution_count": 7,
   "id": "6d628ec8-6aa1-4dd5-b118-5db8f66a65ca",
   "metadata": {
    "execution": {
     "iopub.execute_input": "2023-05-17T08:01+0000",
     "iopub.status.busy": "2023-05-17T08:01+0000",
     "iopub.status.idle": "2023-05-17T08:01+0000",
     "shell.execute_reply": "2023-05-17T08:01+0000"
    },
    "tags": []
   },
   "outputs": [
    {
     "name": "stdout",
     "output_type": "stream",
     "text": [
      "1"
     ]
    }
   ],
   "source": [
    "void power(int b, int exp, int result){\n",
    "    for(int i = 1; i <= exp; i++){\n",
    "        result = result * b;\n",
    "    }\n",
    "}\n",
    "\n",
    "int result = 1;\n",
    "power(2,5,result);\n",
    "print(result);"
   ]
  },
  {
   "cell_type": "code",
   "execution_count": 9,
   "id": "7d39ba8a-2347-4288-8ebd-9b2e78590dc8",
   "metadata": {
    "execution": {
     "iopub.execute_input": "2023-05-17T08:08+0000",
     "iopub.status.busy": "2023-05-17T08:08+0000",
     "iopub.status.idle": "2023-05-17T08:08+0000",
     "shell.execute_reply": "2023-05-17T08:08+0000"
    },
    "tags": []
   },
   "outputs": [
    {
     "name": "stdout",
     "output_type": "stream",
     "text": [
      "1"
     ]
    }
   ],
   "source": [
    "\n",
    "void wrapperPower(Integer b, Integer exp, Integer result){\n",
    "    for(int i = 1; i <= exp; i++){\n",
    "        result = result * b;\n",
    "    }\n",
    "}\n",
    "\n",
    "Integer result = 1;\n",
    "wrapperPower(2,5,result);\n",
    "print(result);"
   ]
  },
  {
   "cell_type": "code",
   "execution_count": 16,
   "id": "23ed519e-4a5e-43a8-979e-d807f11c0403",
   "metadata": {
    "execution": {
     "iopub.execute_input": "2023-05-17T08:51+0000",
     "iopub.status.busy": "2023-05-17T08:51+0000",
     "iopub.status.idle": "2023-05-17T08:51+0000",
     "shell.execute_reply": "2023-05-17T08:51+0000"
    },
    "tags": []
   },
   "outputs": [
    {
     "name": "stdout",
     "output_type": "stream",
     "text": [
      "32\n",
      "32\n",
      "32"
     ]
    }
   ],
   "source": [
    "class Calculadora{\n",
    "    \n",
    "    int result = 1;\n",
    "\n",
    "    void power(int b, int exp){\n",
    "        for(int i = 1; i <= exp; i++){\n",
    "            this.result = this.result * b;\n",
    "        }\n",
    "    }\n",
    "}\n",
    "\n",
    "Calculadora calc = new Calculadora();\n",
    "\n",
    "Calculadora obtenerResultado(Calculadora calculadora, int b, int exp){\n",
    "\n",
    "    calculadora.power(b, exp);\n",
    "    println(calculadora.result);\n",
    "    return calculadora;\n",
    "\n",
    "}\n",
    "\n",
    "Calculadora rc = obtenerResultado(calc,2,5);\n",
    "println(rc.result);\n",
    "print(calc.result);\n"
   ]
  },
  {
   "cell_type": "code",
   "execution_count": 20,
   "id": "66b2e766-39b2-4776-932b-79822102def9",
   "metadata": {
    "execution": {
     "iopub.execute_input": "2023-05-17T09:09+0000",
     "iopub.status.busy": "2023-05-17T09:09+0000",
     "iopub.status.idle": "2023-05-17T09:09+0000",
     "shell.execute_reply": "2023-05-17T09:09+0000"
    },
    "tags": []
   },
   "outputs": [
    {
     "name": "stdout",
     "output_type": "stream",
     "text": [
      "1\n",
      "b = 4 exp = 10\n",
      "32\n",
      "b = 2 exp = 5\n"
     ]
    }
   ],
   "source": [
    "class Calculadora{\n",
    "    \n",
    "    int result = 1;\n",
    "\n",
    "    void power(int b, int exp){\n",
    "        for(int i = 1; i <= exp; i++){\n",
    "            this.result = this.result * b;\n",
    "        }\n",
    "    }\n",
    "}\n",
    "\n",
    "Calculadora calc = new Calculadora();\n",
    "println(calc.result);\n",
    "\n",
    "void obtenerResultado(Calculadora calculadora, int b, int exp){\n",
    "    calculadora.power(b, exp);\n",
    "    b = b * 2;\n",
    "    exp = exp * 2;\n",
    "    println(\"b = \" + b + \" exp = \" + exp);\n",
    "}\n",
    "int b = 2, exp = 5;\n",
    "obtenerResultado(calc,b,exp);\n",
    "println(calc.result);\n",
    "println(\"b = \" + b + \" exp = \" + exp);"
   ]
  },
  {
   "cell_type": "code",
   "execution_count": 24,
   "id": "de1c5bc3-3466-4719-83e1-fce5c5117593",
   "metadata": {
    "execution": {
     "iopub.execute_input": "2023-05-17T10:11+0000",
     "iopub.status.busy": "2023-05-17T10:11+0000",
     "iopub.status.idle": "2023-05-17T10:11+0000",
     "shell.execute_reply": "2023-05-17T10:11+0000"
    },
    "tags": []
   },
   "outputs": [
    {
     "ename": "EvalException",
     "evalue": "/ by zero",
     "output_type": "error",
     "traceback": [
      "\u001b[1m\u001b[31m---------------------------------------------------------------------------\u001b[0m",
      "\u001b[1m\u001b[31mjava.lang.ArithmeticException: / by zero\u001b[0m",
      "\u001b[1m\u001b[31m\tat .(#65:1)\u001b[0m"
     ]
    }
   ],
   "source": [
    "5 / 0;"
   ]
  }
 ],
 "metadata": {
  "kernelspec": {
   "display_name": "Java",
   "language": "java",
   "name": "java"
  },
  "language_info": {
   "codemirror_mode": "java",
   "file_extension": ".jshell",
   "mimetype": "text/x-java-source",
   "name": "Java",
   "pygments_lexer": "java",
   "version": "17.0.6+10-LTS"
  }
 },
 "nbformat": 4,
 "nbformat_minor": 5
}
