{
 "cells": [
  {
   "cell_type": "markdown",
   "id": "8239f717-fad6-4cd0-9383-5608e802413d",
   "metadata": {},
   "source": [
    "# Introducció a Java\n",
    "- Variables\n",
    "- Tipos de datos"
   ]
  },
  {
   "cell_type": "code",
   "execution_count": null,
   "id": "0ced1d36-6545-4d95-90c5-ffd6f4497d8d",
   "metadata": {
    "tags": []
   },
   "outputs": [],
   "source": [
    "println(\"Hola Java!!\");\n",
    "print(\"Hola bona tarda\");"
   ]
  },
  {
   "cell_type": "code",
   "execution_count": null,
   "id": "79c4c705-3457-4e64-8362-051239cf2bdb",
   "metadata": {
    "tags": []
   },
   "outputs": [],
   "source": [
    "println(\"5\"); //esto es un texto\n",
    "println('5'); //esto es un caracter\n",
    "println(5); //esto es un número"
   ]
  },
  {
   "cell_type": "code",
   "execution_count": null,
   "id": "76973cc8-d170-4151-8cdb-65dff3dd9ce8",
   "metadata": {
    "tags": []
   },
   "outputs": [],
   "source": [
    "int n; //declaració de variable indicant el tipus de dada\n",
    "n = 8; //assignació de valor a la variable\n",
    "\n",
    "println(n*1);\n",
    "println(n*2);\n",
    "println(n*3);\n",
    "println(n*4);\n",
    "println(n*5);\n",
    "println(n*6);\n",
    "println(n*7);\n",
    "println(n*8);\n",
    "println(n*9);\n",
    "println(n*10);"
   ]
  },
  {
   "cell_type": "code",
   "execution_count": 71,
   "id": "97bdc342-141c-4272-b8f4-f412ad3be35b",
   "metadata": {
    "execution": {
     "iopub.execute_input": "2023-04-26T11:52+0000",
     "iopub.status.busy": "2023-04-26T11:52+0000",
     "iopub.status.idle": "2023-04-26T11:52+0000",
     "shell.execute_reply": "2023-04-26T11:52+0000"
    },
    "tags": []
   },
   "outputs": [
    {
     "name": "stdout",
     "output_type": "stream",
     "text": [
      "\n",
      "Tabla del 1\n",
      "-----------\n",
      "1x1 = 1\n",
      "1x2 = 2\n",
      "1x3 = 3\n",
      "1x4 = 4\n",
      "1x5 = 5\n",
      "1x6 = 6\n",
      "1x7 = 7\n",
      "1x8 = 8\n",
      "1x9 = 9\n",
      "1x10 = 10\n",
      "\n",
      "Tabla del 2\n",
      "-----------\n",
      "2x1 = 2\n",
      "2x2 = 4\n",
      "2x3 = 6\n",
      "2x4 = 8\n",
      "2x5 = 10\n",
      "2x6 = 12\n",
      "2x7 = 14\n",
      "2x8 = 16\n",
      "2x9 = 18\n",
      "2x10 = 20\n",
      "\n",
      "Tabla del 3\n",
      "-----------\n",
      "3x1 = 3\n",
      "3x2 = 6\n",
      "3x3 = 9\n",
      "3x4 = 12\n",
      "3x5 = 15\n",
      "3x6 = 18\n",
      "3x7 = 21\n",
      "3x8 = 24\n",
      "3x9 = 27\n",
      "3x10 = 30\n",
      "\n",
      "Tabla del 4\n",
      "-----------\n",
      "4x1 = 4\n",
      "4x2 = 8\n",
      "4x3 = 12\n",
      "4x4 = 16\n",
      "4x5 = 20\n",
      "4x6 = 24\n",
      "4x7 = 28\n",
      "4x8 = 32\n",
      "4x9 = 36\n",
      "4x10 = 40\n",
      "\n",
      "Tabla del 5\n",
      "-----------\n",
      "5x1 = 5\n",
      "5x2 = 10\n",
      "5x3 = 15\n",
      "5x4 = 20\n",
      "5x5 = 25\n",
      "5x6 = 30\n",
      "5x7 = 35\n",
      "5x8 = 40\n",
      "5x9 = 45\n",
      "5x10 = 50\n",
      "\n",
      "Tabla del 6\n",
      "-----------\n",
      "6x1 = 6\n",
      "6x2 = 12\n",
      "6x3 = 18\n",
      "6x4 = 24\n",
      "6x5 = 30\n",
      "6x6 = 36\n",
      "6x7 = 42\n",
      "6x8 = 48\n",
      "6x9 = 54\n",
      "6x10 = 60\n",
      "\n",
      "Tabla del 7\n",
      "-----------\n",
      "7x1 = 7\n",
      "7x2 = 14\n",
      "7x3 = 21\n",
      "7x4 = 28\n",
      "7x5 = 35\n",
      "7x6 = 42\n",
      "7x7 = 49\n",
      "7x8 = 56\n",
      "7x9 = 63\n",
      "7x10 = 70\n",
      "\n",
      "Tabla del 8\n",
      "-----------\n",
      "8x1 = 8\n",
      "8x2 = 16\n",
      "8x3 = 24\n",
      "8x4 = 32\n",
      "8x5 = 40\n",
      "8x6 = 48\n",
      "8x7 = 56\n",
      "8x8 = 64\n",
      "8x9 = 72\n",
      "8x10 = 80\n",
      "\n",
      "Tabla del 9\n",
      "-----------\n",
      "9x1 = 9\n",
      "9x2 = 18\n",
      "9x3 = 27\n",
      "9x4 = 36\n",
      "9x5 = 45\n",
      "9x6 = 54\n",
      "9x7 = 63\n",
      "9x8 = 72\n",
      "9x9 = 81\n",
      "9x10 = 90\n",
      "\n",
      "Tabla del 10\n",
      "-----------\n",
      "10x1 = 10\n",
      "10x2 = 20\n",
      "10x3 = 30\n",
      "10x4 = 40\n",
      "10x5 = 50\n",
      "10x6 = 60\n",
      "10x7 = 70\n",
      "10x8 = 80\n",
      "10x9 = 90\n",
      "10x10 = 100\n"
     ]
    }
   ],
   "source": [
    "//int n; //declaració de variable indicant el tipus de dada\n",
    "//n = 1; //assignació de valor a la variable\n",
    "\n",
    "//refactorizar este código para que me imprima\n",
    "//TODAS las tablas de multiplicar desde el 1 hasta el 10\n",
    "int k = 10;\n",
    "for(int n = 1; n <= k; n++){\n",
    "    println(\"\");\n",
    "    println(\"Tabla del \" + n);\n",
    "    println(\"-----------\");\n",
    "    for(int variableAMultiplicar = 1; variableAMultiplicar <= 10; variableAMultiplicar++){\n",
    "        int result = n*variableAMultiplicar;\n",
    "        printf(\"%dx%d = %d%n\", n, variableAMultiplicar, result);\n",
    "    }\n",
    "}\n",
    "\n"
   ]
  },
  {
   "cell_type": "code",
   "execution_count": null,
   "id": "120cc73e-9edc-4d95-b459-7da34354a023",
   "metadata": {
    "tags": []
   },
   "outputs": [],
   "source": [
    "int name = 5;\n",
    "name = 7;\n",
    "name = \"Java\";"
   ]
  },
  {
   "cell_type": "code",
   "execution_count": null,
   "id": "0a3ef4a8-e749-45fb-a5e9-18af50dfc8d5",
   "metadata": {
    "tags": []
   },
   "outputs": [],
   "source": [
    "byte k = (byte)128;\n",
    "print(k);"
   ]
  },
  {
   "cell_type": "code",
   "execution_count": null,
   "id": "1503ea8f-6305-4fe8-8135-091f3f759f6e",
   "metadata": {
    "tags": []
   },
   "outputs": [],
   "source": [
    "int nom = (int)\"5\";"
   ]
  },
  {
   "cell_type": "code",
   "execution_count": null,
   "id": "7ddf509a-fa26-4bbb-8701-f3a614f2e9a4",
   "metadata": {
    "tags": []
   },
   "outputs": [],
   "source": [
    "boolean found = (boolean)\"true\";"
   ]
  },
  {
   "cell_type": "markdown",
   "id": "bb6676b4-fee4-4a02-b25b-a90c7e282d5f",
   "metadata": {},
   "source": [
    "## Operadores y expresiones"
   ]
  },
  {
   "cell_type": "code",
   "execution_count": 3,
   "id": "f04ee2c9-bac5-4e14-bef6-b95e5b3cb562",
   "metadata": {
    "execution": {
     "iopub.execute_input": "2023-04-25T09:03+0000",
     "iopub.status.busy": "2023-04-25T09:03+0000",
     "iopub.status.idle": "2023-04-25T09:03+0000",
     "shell.execute_reply": "2023-04-25T09:03+0000"
    },
    "tags": []
   },
   "outputs": [
    {
     "name": "stdout",
     "output_type": "stream",
     "text": [
      "63"
     ]
    }
   ],
   "source": [
    "//operadores aritmeticos\n",
    "int n = 7;\n",
    "int m = 9;\n",
    "int result = n * m;\n",
    "\n",
    "\n",
    "print(result);"
   ]
  },
  {
   "cell_type": "code",
   "execution_count": 11,
   "id": "df9717ec-996a-462e-9055-c4d611ab6915",
   "metadata": {
    "execution": {
     "iopub.execute_input": "2023-04-25T09:12+0000",
     "iopub.status.busy": "2023-04-25T09:12+0000",
     "iopub.status.idle": "2023-04-25T09:12+0000",
     "shell.execute_reply": "2023-04-25T09:12+0000"
    },
    "tags": []
   },
   "outputs": [
    {
     "name": "stdout",
     "output_type": "stream",
     "text": [
      "8.4"
     ]
    }
   ],
   "source": [
    "int j = 42;\n",
    "int i = 5;\n",
    "double result = (double)j / i;\n",
    "print(result);"
   ]
  },
  {
   "cell_type": "code",
   "execution_count": 17,
   "id": "af40e675-54e2-4f12-91e5-903c0bf3b856",
   "metadata": {
    "execution": {
     "iopub.execute_input": "2023-04-25T09:18+0000",
     "iopub.status.busy": "2023-04-25T09:18+0000",
     "iopub.status.idle": "2023-04-25T09:18+0000",
     "shell.execute_reply": "2023-04-25T09:18+0000"
    },
    "tags": []
   },
   "outputs": [
    {
     "name": "stdout",
     "output_type": "stream",
     "text": [
      "0\n",
      "6\n"
     ]
    }
   ],
   "source": [
    "int r = 6;\n",
    "int s = 7;\n",
    "\n",
    "println(r / s);\n",
    "println(r % s);"
   ]
  },
  {
   "cell_type": "code",
   "execution_count": 25,
   "id": "f335c0b7-7e73-446e-b154-96627451f466",
   "metadata": {
    "execution": {
     "iopub.execute_input": "2023-04-25T09:26+0000",
     "iopub.status.busy": "2023-04-25T09:26+0000",
     "iopub.status.idle": "2023-04-25T09:26+0000",
     "shell.execute_reply": "2023-04-25T09:26+0000"
    },
    "tags": []
   },
   "outputs": [
    {
     "name": "stdout",
     "output_type": "stream",
     "text": [
      "6.0\n",
      "3.0\n",
      "36.0"
     ]
    }
   ],
   "source": [
    "double d = 6.0, t;\n",
    "t = 3.0;\n",
    "\n",
    "println(d);\n",
    "println(t);\n",
    "\n",
    "print((d + d) * t);\n",
    "\n",
    "\n"
   ]
  },
  {
   "cell_type": "markdown",
   "id": "e1e8af99-9d07-4ee8-9c2f-d7d30232c606",
   "metadata": {},
   "source": [
    "### Operadors lògics\n",
    "\n",
    "OR, AND, NOT\n",
    "\n",
    "OR --> ||  \n",
    "AND --> &&  \n",
    "NOT --> !"
   ]
  },
  {
   "cell_type": "code",
   "execution_count": 39,
   "id": "3a027a99-0c2f-4a33-9831-cc39d3883b3f",
   "metadata": {
    "execution": {
     "iopub.execute_input": "2023-04-25T10:26+0000",
     "iopub.status.busy": "2023-04-25T10:26+0000",
     "iopub.status.idle": "2023-04-25T10:26+0000",
     "shell.execute_reply": "2023-04-25T10:26+0000"
    },
    "tags": []
   },
   "outputs": [
    {
     "name": "stdout",
     "output_type": "stream",
     "text": [
      "true\n",
      "false\n",
      "false\n",
      "false\n"
     ]
    }
   ],
   "source": [
    "boolean found = false;\n",
    "boolean has = !true;\n",
    "\n",
    "boolean resultOr = !found || has;\n",
    "boolean resultAnd = found && has;\n",
    "\n",
    "println(resultOr);\n",
    "println(resultAnd);\n",
    "\n",
    "println(!resultOr || resultAnd);\n",
    "println(!(resultOr && !resultAnd));"
   ]
  },
  {
   "cell_type": "markdown",
   "id": "f03ffabf-fb6b-488d-bd77-1fc5f4df7bc4",
   "metadata": {},
   "source": [
    "### Àmbits (variable scope) - blocs de codi (anònims)"
   ]
  },
  {
   "cell_type": "code",
   "execution_count": 1,
   "id": "83ee8622-f127-449b-a018-20041718af6b",
   "metadata": {
    "execution": {
     "iopub.execute_input": "2023-04-25T10:38+0000",
     "iopub.status.busy": "2023-04-25T10:38+0000",
     "iopub.status.idle": "2023-04-25T10:38+0000",
     "shell.execute_reply": "2023-04-25T10:38+0000"
    },
    "tags": []
   },
   "outputs": [
    {
     "ename": "CompilationException",
     "evalue": "",
     "output_type": "error",
     "traceback": [
      "\u001b[1m\u001b[30m|   \u001b[1m\u001b[30m    println(\u001b[0m\u001b[1m\u001b[30m\u001b[41mn2\u001b[0m\u001b[1m\u001b[30m);\u001b[0m",
      "\u001b[1m\u001b[31mcannot find symbol\u001b[0m",
      "\u001b[1m\u001b[31m  symbol:   variable n2\u001b[0m",
      ""
     ]
    }
   ],
   "source": [
    "{\n",
    "    int n1 = 7;\n",
    "    {\n",
    "        int n2 = 9;\n",
    "        println(n1);\n",
    "    }\n",
    "    println(n2);\n",
    "}"
   ]
  },
  {
   "cell_type": "markdown",
   "id": "fe9026f6-576b-4c33-ab33-13d6d83f951c",
   "metadata": {},
   "source": [
    "### Operadores de comparación"
   ]
  },
  {
   "cell_type": "code",
   "execution_count": 4,
   "id": "fccb5471-3eba-4607-81cc-a58878109973",
   "metadata": {
    "execution": {
     "iopub.execute_input": "2023-04-25T10:45+0000",
     "iopub.status.busy": "2023-04-25T10:45+0000",
     "iopub.status.idle": "2023-04-25T10:45+0000",
     "shell.execute_reply": "2023-04-25T10:45+0000"
    },
    "tags": []
   },
   "outputs": [
    {
     "name": "stdout",
     "output_type": "stream",
     "text": [
      "false\n"
     ]
    }
   ],
   "source": [
    "boolean resultat = 6 == 5;\n",
    "println(resultat); //comparem si dos valors són iguals"
   ]
  },
  {
   "cell_type": "code",
   "execution_count": 5,
   "id": "5dee83c2-87d9-43ac-83d6-549a284a5617",
   "metadata": {
    "execution": {
     "iopub.execute_input": "2023-04-25T10:46+0000",
     "iopub.status.busy": "2023-04-25T10:46+0000",
     "iopub.status.idle": "2023-04-25T10:46+0000",
     "shell.execute_reply": "2023-04-25T10:46+0000"
    },
    "tags": []
   },
   "outputs": [
    {
     "name": "stdout",
     "output_type": "stream",
     "text": [
      "true\n"
     ]
    }
   ],
   "source": [
    "boolean resultat = 6 != 5;\n",
    "println(resultat); //comparem si dos valors són diferents"
   ]
  },
  {
   "cell_type": "code",
   "execution_count": 12,
   "id": "964eea69-ff33-4e6a-8ac9-ff6cf7bda866",
   "metadata": {
    "execution": {
     "iopub.execute_input": "2023-04-25T10:50+0000",
     "iopub.status.busy": "2023-04-25T10:50+0000",
     "iopub.status.idle": "2023-04-25T10:50+0000",
     "shell.execute_reply": "2023-04-25T10:50+0000"
    },
    "tags": []
   },
   "outputs": [
    {
     "name": "stdout",
     "output_type": "stream",
     "text": [
      "false\n"
     ]
    }
   ],
   "source": [
    "boolean resultat = 5 > 5;\n",
    "println(resultat); //comparem si un valor es més gran que un altre"
   ]
  },
  {
   "cell_type": "code",
   "execution_count": 8,
   "id": "d5d96772-953c-4fbc-9d9d-b058a77011d4",
   "metadata": {
    "execution": {
     "iopub.execute_input": "2023-04-25T10:48+0000",
     "iopub.status.busy": "2023-04-25T10:48+0000",
     "iopub.status.idle": "2023-04-25T10:48+0000",
     "shell.execute_reply": "2023-04-25T10:48+0000"
    },
    "tags": []
   },
   "outputs": [
    {
     "name": "stdout",
     "output_type": "stream",
     "text": [
      "true\n"
     ]
    }
   ],
   "source": [
    "boolean resultat = 3 < 5;\n",
    "println(resultat); //comparem si un valor es més petit que un altre"
   ]
  },
  {
   "cell_type": "code",
   "execution_count": 11,
   "id": "48bafecc-b4fc-4989-b9f9-fdef3fb6176e",
   "metadata": {
    "execution": {
     "iopub.execute_input": "2023-04-25T10:49+0000",
     "iopub.status.busy": "2023-04-25T10:49+0000",
     "iopub.status.idle": "2023-04-25T10:49+0000",
     "shell.execute_reply": "2023-04-25T10:49+0000"
    },
    "tags": []
   },
   "outputs": [
    {
     "name": "stdout",
     "output_type": "stream",
     "text": [
      "true\n"
     ]
    }
   ],
   "source": [
    "boolean resultat = 5 >= 5;\n",
    "println(resultat); //comparem si un valor es més gran o igual que un altre"
   ]
  },
  {
   "cell_type": "code",
   "execution_count": 16,
   "id": "1f92a82c-d5dc-4ecd-9b08-977e50e9b7ff",
   "metadata": {
    "execution": {
     "iopub.execute_input": "2023-04-25T10:52+0000",
     "iopub.status.busy": "2023-04-25T10:52+0000",
     "iopub.status.idle": "2023-04-25T10:52+0000",
     "shell.execute_reply": "2023-04-25T10:52+0000"
    },
    "tags": []
   },
   "outputs": [
    {
     "ename": "CompilationException",
     "evalue": "",
     "output_type": "error",
     "traceback": [
      "\u001b[1m\u001b[30m|   \u001b[1m\u001b[30mboolean resultat = \u001b[0m\u001b[1m\u001b[30m\u001b[41m\"5\" <= 5.0\u001b[0m\u001b[1m\u001b[30m;\u001b[0m",
      "\u001b[1m\u001b[31mbad operand types for binary operator '<='\u001b[0m",
      "\u001b[1m\u001b[31m  first type:  java.lang.String\u001b[0m",
      "\u001b[1m\u001b[31m  second type: double\u001b[0m",
      ""
     ]
    }
   ],
   "source": [
    "boolean resultat = 5 <= 5.0; \n",
    "println(resultat); //comparem si un valor es més petit o igual que un altre"
   ]
  },
  {
   "cell_type": "code",
   "execution_count": 25,
   "id": "450bacc5-d003-451e-871b-2d4cf4ee93c3",
   "metadata": {
    "execution": {
     "iopub.execute_input": "2023-04-25T10:58+0000",
     "iopub.status.busy": "2023-04-25T10:58+0000",
     "iopub.status.idle": "2023-04-25T10:58+0000",
     "shell.execute_reply": "2023-04-25T10:58+0000"
    },
    "tags": []
   },
   "outputs": [],
   "source": [
    "float f = 7.0f;\n",
    "\n",
    "long g = 8L;"
   ]
  },
  {
   "cell_type": "code",
   "execution_count": 26,
   "id": "d6867c6f-296a-4ce3-8e78-0c0f1c798c03",
   "metadata": {
    "execution": {
     "iopub.execute_input": "2023-04-25T11:10+0000",
     "iopub.status.busy": "2023-04-25T11:10+0000",
     "iopub.status.idle": "2023-04-25T11:10+0000",
     "shell.execute_reply": "2023-04-25T11:10+0000"
    },
    "tags": []
   },
   "outputs": [
    {
     "name": "stdout",
     "output_type": "stream",
     "text": [
      "true\n",
      "true\n",
      "true\n",
      "true\n"
     ]
    }
   ],
   "source": [
    "int h = 55;\n",
    "double dd = 44.3;\n",
    "\n",
    "boolean found = (h >= dd / 2) && !(h * 4.5 == dd);\n",
    "boolean has = !(dd != h) || true;\n",
    "\n",
    "boolean resultOr = !found || has;\n",
    "boolean resultAnd = found && has;\n",
    "\n",
    "println(resultOr);\n",
    "println(resultAnd);\n",
    "\n",
    "println(!resultOr || resultAnd);\n",
    "println(!(resultOr && !resultAnd));"
   ]
  },
  {
   "cell_type": "markdown",
   "id": "82be4598-193a-429c-9535-d7e9b3987bbf",
   "metadata": {},
   "source": [
    "## Estructures condicionals\n",
    "\n",
    "Estan basades en les expressions condicionals, és a dir,\n",
    "aquelles expressions que tenen per resultat, un cop avaluades, un boolean."
   ]
  },
  {
   "cell_type": "markdown",
   "id": "46b16496-d4cd-418a-a999-cadda4192234",
   "metadata": {},
   "source": [
    "```java\n",
    "if( expressio condicional ){\n",
    "   // s'executa aquest bloc de codi\n",
    "    // si i només si l'exprssio condicional\n",
    "    // s'avalua a true\n",
    "}\n",
    "```"
   ]
  },
  {
   "cell_type": "code",
   "execution_count": 29,
   "id": "aac9be92-f750-40ae-80a2-4a335e282388",
   "metadata": {
    "execution": {
     "iopub.execute_input": "2023-04-25T11:30+0000",
     "iopub.status.busy": "2023-04-25T11:30+0000",
     "iopub.status.idle": "2023-04-25T11:30+0000",
     "shell.execute_reply": "2023-04-25T11:30+0000"
    },
    "tags": []
   },
   "outputs": [
    {
     "name": "stdout",
     "output_type": "stream",
     "text": [
      "n és positiu\n"
     ]
    }
   ],
   "source": [
    "int n = 10;\n",
    "\n",
    "if(n > 0){\n",
    "\n",
    "    println(\"n és positiu\");\n",
    "\n",
    "}\n"
   ]
  },
  {
   "cell_type": "code",
   "execution_count": 32,
   "id": "43182f1c-aaf6-409a-b69f-34cb6fb5c478",
   "metadata": {
    "execution": {
     "iopub.execute_input": "2023-04-25T11:40+0000",
     "iopub.status.busy": "2023-04-25T11:40+0000",
     "iopub.status.idle": "2023-04-25T11:40+0000",
     "shell.execute_reply": "2023-04-25T11:40+0000"
    },
    "tags": []
   },
   "outputs": [
    {
     "name": "stdout",
     "output_type": "stream",
     "text": [
      "n és zero\n"
     ]
    }
   ],
   "source": [
    "int n = 0;\n",
    "\n",
    "if(n > 0){\n",
    "\n",
    "    println(\"n és positiu\");\n",
    "\n",
    "} else {\n",
    "\n",
    "    //s'executa si i només si\n",
    "    //l'expressió condicional s'avalua a false\n",
    "    \n",
    "    if(n < 0) {\n",
    "        println(\"n és un número negatiu\");\n",
    "    } else {\n",
    "        println(\"n és zero\");\n",
    "    }\n",
    "\n",
    "}\n"
   ]
  },
  {
   "cell_type": "code",
   "execution_count": 38,
   "id": "6b9723da-b6e0-419d-9ba4-94c30d97034c",
   "metadata": {
    "execution": {
     "iopub.execute_input": "2023-04-25T11:55+0000",
     "iopub.status.busy": "2023-04-25T11:55+0000",
     "iopub.status.idle": "2023-04-25T11:55+0000",
     "shell.execute_reply": "2023-04-25T11:55+0000"
    },
    "tags": []
   },
   "outputs": [
    {
     "name": "stdout",
     "output_type": "stream",
     "text": [
      "n és positiu i n = 7\n",
      "7\n"
     ]
    }
   ],
   "source": [
    "int n = 3;\n",
    "\n",
    "if(n > 0){\n",
    "    n = 7;\n",
    "    println(\"n és positiu i n = \" + n);\n",
    "\n",
    "} else if (n == 0){\n",
    "\n",
    "    println(\"n és zero i n = \" + n);\n",
    "\n",
    "} else {\n",
    "    println(\"n és negatiu i n = \" + n);\n",
    "}\n",
    "\n",
    "println(n);"
   ]
  },
  {
   "cell_type": "code",
   "execution_count": 8,
   "id": "56099e10-0cb6-4309-b131-e84a41df13c4",
   "metadata": {
    "execution": {
     "iopub.execute_input": "2023-04-26T07:55+0000",
     "iopub.status.busy": "2023-04-26T07:55+0000",
     "iopub.status.idle": "2023-04-26T07:55+0000",
     "shell.execute_reply": "2023-04-26T07:55+0000"
    },
    "tags": []
   },
   "outputs": [
    {
     "name": "stdout",
     "output_type": "stream",
     "text": [
      "9 és senar\n"
     ]
    }
   ],
   "source": [
    "int n;\n",
    "n = 9;\n",
    "\n",
    "//if else -> si n és parell o senar\n",
    "\n",
    "if (n % 2 == 0){\n",
    "    println(n + \" és parell\");\n",
    "} else {\n",
    "    println(n + \" és senar\");\n",
    "}\n"
   ]
  },
  {
   "cell_type": "code",
   "execution_count": 35,
   "id": "3c2704a9-5638-40e9-a454-0601cf5a7e30",
   "metadata": {
    "execution": {
     "iopub.execute_input": "2023-04-26T08:36+0000",
     "iopub.status.busy": "2023-04-26T08:36+0000",
     "iopub.status.idle": "2023-04-26T08:36+0000",
     "shell.execute_reply": "2023-04-26T08:36+0000"
    },
    "tags": []
   },
   "outputs": [
    {
     "name": "stdout",
     "output_type": "stream",
     "text": [
      "bizz"
     ]
    }
   ],
   "source": [
    "//Creeu una(es) estructura(es) condicional(s) que:\n",
    "// donat un número n enter:\n",
    "// - imprimeixi bizz si n és múltiple de 3\n",
    "// - imprimeixi bazz si n és múltiple de 5\n",
    "// - imprimeixi buzz si n és múltiple de 7\n",
    "// - imprimeixi grrr... si n no és múltiple ni\n",
    "// de 3, ni de 5, ni de 7\n",
    "\n",
    "int n = 108;\n",
    "if(n % 3 == 0){\n",
    "    print(\"bizz\");\n",
    "} \n",
    "if (n % 5 == 0){\n",
    "    print(\"bazz\");\n",
    "}\n",
    "if (n % 7 == 0){\n",
    "    print(\"buzz\");\n",
    "} \n",
    "\n",
    "if(n % 3 != 0 && n % 5 != 0 && n % 7 != 0) {\n",
    "    print(\"grrr...\");\n",
    "}\n",
    "\n"
   ]
  },
  {
   "cell_type": "markdown",
   "id": "be253645-be6a-4eea-af2f-5e84e57932c0",
   "metadata": {},
   "source": [
    "## Estrucures iteratives"
   ]
  },
  {
   "cell_type": "code",
   "execution_count": 46,
   "id": "d736a475-86ac-4aaa-874c-12862902d359",
   "metadata": {
    "execution": {
     "iopub.execute_input": "2023-04-26T09:24+0000",
     "iopub.status.busy": "2023-04-26T09:24+0000",
     "iopub.status.idle": "2023-04-26T09:24+0000",
     "shell.execute_reply": "2023-04-26T09:24+0000"
    },
    "tags": []
   },
   "outputs": [
    {
     "name": "stdout",
     "output_type": "stream",
     "text": [
      "0 1 2 3 4 5 6 7 8 9 10 11 12 13 14 15 16 17 18 19 20 21 22 23 24 25 26 27 28 29 30 \n",
      "30 29 28 27 26 25 24 23 22 21 20 19 18 17 16 15 14 13 12 11 10 9 8 7 6 5 4 3 2 1 0 "
     ]
    }
   ],
   "source": [
    "int k;\n",
    "k = 30;\n",
    "\n",
    "//imprime todos los números desde 0 hasta k\n",
    "\n",
    "for(int valorAImprimir = 0; valorAImprimir <= k; valorAImprimir++){\n",
    "    print(valorAImprimir + \" \");\n",
    "}\n",
    "\n",
    "//feu un bucle que imprima de k hasta 0\n",
    "\n",
    "println(\"\");\n",
    "\n",
    "for(int valorAImprimir = k; valorAImprimir >= 0; valorAImprimir--){\n",
    "    print(valorAImprimir + \" \");\n",
    "}\n",
    "\n",
    "\n"
   ]
  },
  {
   "cell_type": "code",
   "execution_count": 53,
   "id": "4b1b7904-e2c1-4fe2-82b2-54ee2b1d8d4e",
   "metadata": {
    "execution": {
     "iopub.execute_input": "2023-04-26T10:22+0000",
     "iopub.status.busy": "2023-04-26T10:22+0000",
     "iopub.status.idle": "2023-04-26T10:22+0000",
     "shell.execute_reply": "2023-04-26T10:22+0000"
    },
    "tags": []
   },
   "outputs": [
    {
     "name": "stdout",
     "output_type": "stream",
     "text": [
      "2 4 6 8 10 12 14 16 18 20 22 24 26 28 30 32 34 36 38 40 "
     ]
    }
   ],
   "source": [
    "//donat un valor de k, feu un for que imprimeixi \n",
    "//els valors que van de 0 fins a k (inclosa)\n",
    "// que siguin parells\n",
    "\n",
    "int k;\n",
    "k = 40;\n",
    "\n",
    "for(int vai = 0; vai <= k; vai++){\n",
    "    if(vai % 2 == 0 && vai != 0){\n",
    "        print(vai + \" \");\n",
    "    }\n",
    "}\n"
   ]
  },
  {
   "cell_type": "code",
   "execution_count": 61,
   "id": "f9a6fddb-b6f8-4979-91cc-902a0392b0c6",
   "metadata": {
    "execution": {
     "iopub.execute_input": "2023-04-26T11:09+0000",
     "iopub.status.busy": "2023-04-26T11:09+0000",
     "iopub.status.idle": "2023-04-26T11:09+0000",
     "shell.execute_reply": "2023-04-26T11:09+0000"
    },
    "tags": []
   },
   "outputs": [
    {
     "name": "stdout",
     "output_type": "stream",
     "text": [
      "15.5"
     ]
    }
   ],
   "source": [
    "\n",
    "\n",
    "//Dado un valor entero n,\n",
    "//y usando un bucle,\n",
    "//calcula e imprime por pantalla\n",
    "//la media aritmética de todos \n",
    "// los números entre 1 y n\n",
    "\n",
    "// 1 - Sumar todos los número entre 1 y n (bucle)\n",
    "// 2 - Dividir el resultado de la suma entre el total de números, que es n.\n",
    "\n",
    "int n = 30;\n",
    "\n",
    "int suma = 0;\n",
    "\n",
    "for(int varASumar = 1; varASumar <= n; varASumar++){\n",
    "    suma = suma + varASumar;\n",
    "}\n",
    "double media = (double)suma / n;\n",
    "print(media);\n"
   ]
  },
  {
   "cell_type": "code",
   "execution_count": 62,
   "id": "14c5a2bf-055a-4538-a727-190d83e996bc",
   "metadata": {
    "execution": {
     "iopub.execute_input": "2023-04-26T11:25+0000",
     "iopub.status.busy": "2023-04-26T11:25+0000",
     "iopub.status.idle": "2023-04-26T11:25+0000",
     "shell.execute_reply": "2023-04-26T11:25+0000"
    },
    "tags": []
   },
   "outputs": [
    {
     "name": "stdout",
     "output_type": "stream",
     "text": [
      "0 1 2 3 4 5 6 7 8 9 10 11 12 13 14 15 16 17 18 19 20 21 22 23 24 25 26 27 28 29 30 "
     ]
    }
   ],
   "source": [
    "int k;\n",
    "k = 30;\n",
    "\n",
    "//imprime todos los números desde 0 hasta k\n",
    "\n",
    "boolean found = false;\n",
    "\n",
    "for(int valorAImprimir = 0; !found; valorAImprimir++){\n",
    "    print(valorAImprimir + \" \");\n",
    "    if(valorAImprimir == k){\n",
    "        found = true; //ha trobat el valor final que es k\n",
    "    }\n",
    "}"
   ]
  }
 ],
 "metadata": {
  "kernelspec": {
   "display_name": "Java",
   "language": "java",
   "name": "java"
  },
  "language_info": {
   "codemirror_mode": "java",
   "file_extension": ".jshell",
   "mimetype": "text/x-java-source",
   "name": "Java",
   "pygments_lexer": "java",
   "version": "17.0.6+10-LTS"
  }
 },
 "nbformat": 4,
 "nbformat_minor": 5
}
