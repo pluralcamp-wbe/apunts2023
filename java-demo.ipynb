{
 "cells": [
  {
   "cell_type": "markdown",
   "id": "8239f717-fad6-4cd0-9383-5608e802413d",
   "metadata": {},
   "source": [
    "# Introducció a Java\n",
    "- Variables\n",
    "- Tipos de datos"
   ]
  },
  {
   "cell_type": "code",
   "execution_count": null,
   "id": "0ced1d36-6545-4d95-90c5-ffd6f4497d8d",
   "metadata": {
    "tags": []
   },
   "outputs": [],
   "source": [
    "println(\"Hola Java!!\");\n",
    "print(\"Hola bona tarda\");"
   ]
  },
  {
   "cell_type": "code",
   "execution_count": null,
   "id": "79c4c705-3457-4e64-8362-051239cf2bdb",
   "metadata": {
    "tags": []
   },
   "outputs": [],
   "source": [
    "println(\"5\"); //esto es un texto\n",
    "println('5'); //esto es un caracter\n",
    "println(5); //esto es un número"
   ]
  },
  {
   "cell_type": "code",
   "execution_count": null,
   "id": "76973cc8-d170-4151-8cdb-65dff3dd9ce8",
   "metadata": {
    "tags": []
   },
   "outputs": [],
   "source": [
    "int n; //declaració de variable indicant el tipus de dada\n",
    "n = 8; //assignació de valor a la variable\n",
    "\n",
    "println(n*1);\n",
    "println(n*2);\n",
    "println(n*3);\n",
    "println(n*4);\n",
    "println(n*5);\n",
    "println(n*6);\n",
    "println(n*7);\n",
    "println(n*8);\n",
    "println(n*9);\n",
    "println(n*10);"
   ]
  },
  {
   "cell_type": "code",
   "execution_count": null,
   "id": "97bdc342-141c-4272-b8f4-f412ad3be35b",
   "metadata": {
    "tags": []
   },
   "outputs": [],
   "source": [
    "//int n; //declaració de variable indicant el tipus de dada\n",
    "//n = 1; //assignació de valor a la variable\n",
    "\n",
    "//refactorizar este código para que me imprima\n",
    "//TODAS las tablas de multiplicar desde el 1 hasta el 10\n",
    "int k = 10;\n",
    "for(int n = 1; n <= k; n++){\n",
    "    println(\"\");\n",
    "    println(\"Tabla del \" + n);\n",
    "    println(\"-----------\");\n",
    "    for(int variableAMultiplicar = 1; variableAMultiplicar <= 10; variableAMultiplicar++){\n",
    "        int result = n*variableAMultiplicar;\n",
    "        printf(\"%dx%d = %d%n\", n, variableAMultiplicar, result);\n",
    "    }\n",
    "}\n",
    "\n"
   ]
  },
  {
   "cell_type": "code",
   "execution_count": null,
   "id": "baf3d4b4-9257-4a73-adf1-185d29900f22",
   "metadata": {},
   "outputs": [],
   "source": []
  },
  {
   "cell_type": "code",
   "execution_count": null,
   "id": "120cc73e-9edc-4d95-b459-7da34354a023",
   "metadata": {
    "tags": []
   },
   "outputs": [],
   "source": [
    "int name = 5;\n",
    "name = 7;\n",
    "name = \"Java\";"
   ]
  },
  {
   "cell_type": "code",
   "execution_count": null,
   "id": "0a3ef4a8-e749-45fb-a5e9-18af50dfc8d5",
   "metadata": {
    "tags": []
   },
   "outputs": [],
   "source": [
    "byte k = (byte)128;\n",
    "print(k);"
   ]
  },
  {
   "cell_type": "code",
   "execution_count": null,
   "id": "1503ea8f-6305-4fe8-8135-091f3f759f6e",
   "metadata": {
    "tags": []
   },
   "outputs": [],
   "source": [
    "int nom = (int)\"5\";"
   ]
  },
  {
   "cell_type": "code",
   "execution_count": null,
   "id": "7ddf509a-fa26-4bbb-8701-f3a614f2e9a4",
   "metadata": {
    "tags": []
   },
   "outputs": [],
   "source": [
    "boolean found = (boolean)\"true\";"
   ]
  },
  {
   "cell_type": "markdown",
   "id": "bb6676b4-fee4-4a02-b25b-a90c7e282d5f",
   "metadata": {},
   "source": [
    "## Operadores y expresiones"
   ]
  },
  {
   "cell_type": "code",
   "execution_count": null,
   "id": "f04ee2c9-bac5-4e14-bef6-b95e5b3cb562",
   "metadata": {
    "tags": []
   },
   "outputs": [],
   "source": [
    "//operadores aritmeticos\n",
    "int n = 7;\n",
    "int m = 9;\n",
    "int result = n * m;\n",
    "\n",
    "\n",
    "print(result);"
   ]
  },
  {
   "cell_type": "code",
   "execution_count": null,
   "id": "df9717ec-996a-462e-9055-c4d611ab6915",
   "metadata": {
    "tags": []
   },
   "outputs": [],
   "source": [
    "int j = 42;\n",
    "int i = 5;\n",
    "double result = (double)j / i;\n",
    "print(result);"
   ]
  },
  {
   "cell_type": "code",
   "execution_count": null,
   "id": "af40e675-54e2-4f12-91e5-903c0bf3b856",
   "metadata": {
    "tags": []
   },
   "outputs": [],
   "source": [
    "int r = 6;\n",
    "int s = 7;\n",
    "\n",
    "println(r / s);\n",
    "println(r % s);"
   ]
  },
  {
   "cell_type": "code",
   "execution_count": null,
   "id": "f335c0b7-7e73-446e-b154-96627451f466",
   "metadata": {
    "tags": []
   },
   "outputs": [],
   "source": [
    "double d = 6.0, t;\n",
    "t = 3.0;\n",
    "\n",
    "println(d);\n",
    "println(t);\n",
    "\n",
    "print((d + d) * t);\n",
    "\n",
    "\n"
   ]
  },
  {
   "cell_type": "markdown",
   "id": "e1e8af99-9d07-4ee8-9c2f-d7d30232c606",
   "metadata": {},
   "source": [
    "### Operadors lògics\n",
    "\n",
    "OR, AND, NOT\n",
    "\n",
    "OR --> ||  \n",
    "AND --> &&  \n",
    "NOT --> !"
   ]
  },
  {
   "cell_type": "code",
   "execution_count": null,
   "id": "3a027a99-0c2f-4a33-9831-cc39d3883b3f",
   "metadata": {
    "tags": []
   },
   "outputs": [],
   "source": [
    "boolean found = false;\n",
    "boolean has = !true;\n",
    "\n",
    "boolean resultOr = !found || has;\n",
    "boolean resultAnd = found && has;\n",
    "\n",
    "println(resultOr);\n",
    "println(resultAnd);\n",
    "\n",
    "println(!resultOr || resultAnd);\n",
    "println(!(resultOr && !resultAnd));"
   ]
  },
  {
   "cell_type": "markdown",
   "id": "f03ffabf-fb6b-488d-bd77-1fc5f4df7bc4",
   "metadata": {},
   "source": [
    "### Àmbits (variable scope) - blocs de codi (anònims)"
   ]
  },
  {
   "cell_type": "code",
   "execution_count": null,
   "id": "83ee8622-f127-449b-a018-20041718af6b",
   "metadata": {
    "tags": []
   },
   "outputs": [],
   "source": [
    "{\n",
    "    int n1 = 7;\n",
    "    {\n",
    "        int n2 = 9;\n",
    "        println(n1);\n",
    "    }\n",
    "    println(n2);\n",
    "}"
   ]
  },
  {
   "cell_type": "markdown",
   "id": "fe9026f6-576b-4c33-ab33-13d6d83f951c",
   "metadata": {},
   "source": [
    "### Operadores de comparación"
   ]
  },
  {
   "cell_type": "code",
   "execution_count": null,
   "id": "fccb5471-3eba-4607-81cc-a58878109973",
   "metadata": {
    "tags": []
   },
   "outputs": [],
   "source": [
    "boolean resultat = 6 == 5;\n",
    "println(resultat); //comparem si dos valors són iguals"
   ]
  },
  {
   "cell_type": "code",
   "execution_count": null,
   "id": "5dee83c2-87d9-43ac-83d6-549a284a5617",
   "metadata": {
    "tags": []
   },
   "outputs": [],
   "source": [
    "boolean resultat = 6 != 5;\n",
    "println(resultat); //comparem si dos valors són diferents"
   ]
  },
  {
   "cell_type": "code",
   "execution_count": null,
   "id": "964eea69-ff33-4e6a-8ac9-ff6cf7bda866",
   "metadata": {
    "tags": []
   },
   "outputs": [],
   "source": [
    "boolean resultat = 5 > 5;\n",
    "println(resultat); //comparem si un valor es més gran que un altre"
   ]
  },
  {
   "cell_type": "code",
   "execution_count": null,
   "id": "d5d96772-953c-4fbc-9d9d-b058a77011d4",
   "metadata": {
    "tags": []
   },
   "outputs": [],
   "source": [
    "boolean resultat = 3 < 5;\n",
    "println(resultat); //comparem si un valor es més petit que un altre"
   ]
  },
  {
   "cell_type": "code",
   "execution_count": null,
   "id": "48bafecc-b4fc-4989-b9f9-fdef3fb6176e",
   "metadata": {
    "tags": []
   },
   "outputs": [],
   "source": [
    "boolean resultat = 5 >= 5;\n",
    "println(resultat); //comparem si un valor es més gran o igual que un altre"
   ]
  },
  {
   "cell_type": "code",
   "execution_count": null,
   "id": "1f92a82c-d5dc-4ecd-9b08-977e50e9b7ff",
   "metadata": {
    "tags": []
   },
   "outputs": [],
   "source": [
    "boolean resultat = 5 <= 5.0; \n",
    "println(resultat); //comparem si un valor es més petit o igual que un altre"
   ]
  },
  {
   "cell_type": "code",
   "execution_count": null,
   "id": "450bacc5-d003-451e-871b-2d4cf4ee93c3",
   "metadata": {
    "tags": []
   },
   "outputs": [],
   "source": [
    "float f = 7.0f;\n",
    "\n",
    "long g = 8L;"
   ]
  },
  {
   "cell_type": "code",
   "execution_count": null,
   "id": "d6867c6f-296a-4ce3-8e78-0c0f1c798c03",
   "metadata": {
    "tags": []
   },
   "outputs": [],
   "source": [
    "int h = 55;\n",
    "double dd = 44.3;\n",
    "\n",
    "boolean found = (h >= dd / 2) && !(h * 4.5 == dd);\n",
    "boolean has = !(dd != h) || true;\n",
    "\n",
    "boolean resultOr = !found || has;\n",
    "boolean resultAnd = found && has;\n",
    "\n",
    "println(resultOr);\n",
    "println(resultAnd);\n",
    "\n",
    "println(!resultOr || resultAnd);\n",
    "println(!(resultOr && !resultAnd));"
   ]
  },
  {
   "cell_type": "markdown",
   "id": "82be4598-193a-429c-9535-d7e9b3987bbf",
   "metadata": {},
   "source": [
    "## Estructures condicionals\n",
    "\n",
    "Estan basades en les expressions condicionals, és a dir,\n",
    "aquelles expressions que tenen per resultat, un cop avaluades, un boolean."
   ]
  },
  {
   "cell_type": "markdown",
   "id": "46b16496-d4cd-418a-a999-cadda4192234",
   "metadata": {},
   "source": [
    "```java\n",
    "if( expressio condicional ){\n",
    "   // s'executa aquest bloc de codi\n",
    "    // si i només si l'exprssio condicional\n",
    "    // s'avalua a true\n",
    "}\n",
    "```"
   ]
  },
  {
   "cell_type": "code",
   "execution_count": null,
   "id": "aac9be92-f750-40ae-80a2-4a335e282388",
   "metadata": {
    "tags": []
   },
   "outputs": [],
   "source": [
    "int n = 10;\n",
    "\n",
    "if(n > 0){\n",
    "\n",
    "    println(\"n és positiu\");\n",
    "\n",
    "}\n"
   ]
  },
  {
   "cell_type": "code",
   "execution_count": null,
   "id": "43182f1c-aaf6-409a-b69f-34cb6fb5c478",
   "metadata": {
    "tags": []
   },
   "outputs": [],
   "source": [
    "int n = 0;\n",
    "\n",
    "if(n > 0){\n",
    "\n",
    "    println(\"n és positiu\");\n",
    "\n",
    "} else {\n",
    "\n",
    "    //s'executa si i només si\n",
    "    //l'expressió condicional s'avalua a false\n",
    "    \n",
    "    if(n < 0) {\n",
    "        println(\"n és un número negatiu\");\n",
    "    } else {\n",
    "        println(\"n és zero\");\n",
    "    }\n",
    "\n",
    "}\n"
   ]
  },
  {
   "cell_type": "code",
   "execution_count": null,
   "id": "6b9723da-b6e0-419d-9ba4-94c30d97034c",
   "metadata": {
    "tags": []
   },
   "outputs": [],
   "source": [
    "int n = 3;\n",
    "\n",
    "if(n > 0){\n",
    "    n = 7;\n",
    "    println(\"n és positiu i n = \" + n);\n",
    "\n",
    "} else if (n == 0){\n",
    "\n",
    "    println(\"n és zero i n = \" + n);\n",
    "\n",
    "} else {\n",
    "    println(\"n és negatiu i n = \" + n);\n",
    "}\n",
    "\n",
    "println(n);"
   ]
  },
  {
   "cell_type": "code",
   "execution_count": null,
   "id": "56099e10-0cb6-4309-b131-e84a41df13c4",
   "metadata": {
    "tags": []
   },
   "outputs": [],
   "source": [
    "int n;\n",
    "n = 9;\n",
    "\n",
    "//if else -> si n és parell o senar\n",
    "\n",
    "if (n % 2 == 0){\n",
    "    println(n + \" és parell\");\n",
    "} else {\n",
    "    println(n + \" és senar\");\n",
    "}\n"
   ]
  },
  {
   "cell_type": "code",
   "execution_count": null,
   "id": "3c2704a9-5638-40e9-a454-0601cf5a7e30",
   "metadata": {
    "tags": []
   },
   "outputs": [],
   "source": [
    "//Creeu una(es) estructura(es) condicional(s) que:\n",
    "// donat un número n enter:\n",
    "// - imprimeixi bizz si n és múltiple de 3\n",
    "// - imprimeixi bazz si n és múltiple de 5\n",
    "// - imprimeixi buzz si n és múltiple de 7\n",
    "// - imprimeixi grrr... si n no és múltiple ni\n",
    "// de 3, ni de 5, ni de 7\n",
    "\n",
    "int n = 108;\n",
    "if(n % 3 == 0){\n",
    "    print(\"bizz\");\n",
    "} \n",
    "if (n % 5 == 0){\n",
    "    print(\"bazz\");\n",
    "}\n",
    "if (n % 7 == 0){\n",
    "    print(\"buzz\");\n",
    "} \n",
    "\n",
    "if(n % 3 != 0 && n % 5 != 0 && n % 7 != 0) {\n",
    "    print(\"grrr...\");\n",
    "}\n",
    "\n"
   ]
  },
  {
   "cell_type": "markdown",
   "id": "be253645-be6a-4eea-af2f-5e84e57932c0",
   "metadata": {},
   "source": [
    "## Estrucures iteratives"
   ]
  },
  {
   "cell_type": "code",
   "execution_count": null,
   "id": "d736a475-86ac-4aaa-874c-12862902d359",
   "metadata": {
    "tags": []
   },
   "outputs": [],
   "source": [
    "int k;\n",
    "k = 30;\n",
    "\n",
    "//imprime todos los números desde 0 hasta k\n",
    "\n",
    "for(int valorAImprimir = 0; valorAImprimir <= k; valorAImprimir++){\n",
    "    print(valorAImprimir + \" \");\n",
    "}\n",
    "\n",
    "//feu un bucle que imprima de k hasta 0\n",
    "\n",
    "println(\"\");\n",
    "\n",
    "for(int valorAImprimir = k; valorAImprimir >= 0; valorAImprimir--){\n",
    "    print(valorAImprimir + \" \");\n",
    "}\n",
    "\n",
    "\n"
   ]
  },
  {
   "cell_type": "code",
   "execution_count": null,
   "id": "82b15881-7a9d-4337-b4fb-433342054b03",
   "metadata": {
    "tags": []
   },
   "outputs": [],
   "source": [
    "for (int v = 0; v < 10; ){\n",
    "    print(v);\n",
    "}"
   ]
  },
  {
   "cell_type": "code",
   "execution_count": null,
   "id": "4b1b7904-e2c1-4fe2-82b2-54ee2b1d8d4e",
   "metadata": {
    "tags": []
   },
   "outputs": [],
   "source": [
    "//donat un valor de k, feu un for que imprimeixi \n",
    "//els valors que van de 0 fins a k (inclosa)\n",
    "// que siguin parells\n",
    "\n",
    "int k;\n",
    "k = 40;\n",
    "\n",
    "for(int vai = 0; vai <= k; vai++){\n",
    "    if(vai % 2 == 0 && vai != 0){\n",
    "        print(vai + \" \");\n",
    "    }\n",
    "}\n"
   ]
  },
  {
   "cell_type": "code",
   "execution_count": 2,
   "id": "f9a6fddb-b6f8-4979-91cc-902a0392b0c6",
   "metadata": {
    "execution": {
     "iopub.execute_input": "2023-04-27T08:18+0000",
     "iopub.status.busy": "2023-04-27T08:18+0000",
     "iopub.status.idle": "2023-04-27T08:18+0000",
     "shell.execute_reply": "2023-04-27T08:18+0000"
    },
    "tags": []
   },
   "outputs": [
    {
     "name": "stdout",
     "output_type": "stream",
     "text": [
      "15.5"
     ]
    }
   ],
   "source": [
    "\n",
    "\n",
    "//Dado un valor entero n,\n",
    "//y usando un bucle,\n",
    "//calcula e imprime por pantalla\n",
    "//la media aritmética de todos \n",
    "// los números entre 1 y n\n",
    "\n",
    "// 1 - Sumar todos los número entre 1 y n (bucle)\n",
    "// 2 - Dividir el resultado de la suma entre el total de números, que es n.\n",
    "\n",
    "int n = 30;\n",
    "\n",
    "int suma = 0;\n",
    "\n",
    "for(int varASumar = 1; varASumar <= n; varASumar++){\n",
    "    suma = suma + varASumar;\n",
    "}\n",
    "double media = (double)suma / n;\n",
    "print(media);\n"
   ]
  },
  {
   "cell_type": "code",
   "execution_count": 1,
   "id": "f6352c8d-6f39-40ff-bacb-2deb964c4919",
   "metadata": {
    "execution": {
     "iopub.execute_input": "2023-04-27T08:18+0000",
     "iopub.status.busy": "2023-04-27T08:18+0000",
     "iopub.status.idle": "2023-04-27T08:18+0000",
     "shell.execute_reply": "2023-04-27T08:18+0000"
    },
    "tags": []
   },
   "outputs": [
    {
     "name": "stdout",
     "output_type": "stream",
     "text": [
      "15.5"
     ]
    }
   ],
   "source": [
    "int n=30;\n",
    "int suma=0;\n",
    "int varsuma=0;\n",
    "while(varsuma<=n)\n",
    "{\n",
    "    suma=suma + varsuma;\n",
    "    varsuma=varsuma+1;\n",
    "}\n",
    "double media = (double)suma/n;\n",
    "print(media);\n"
   ]
  },
  {
   "cell_type": "code",
   "execution_count": null,
   "id": "91283995-a3c5-4504-b354-df8e5f6f9b29",
   "metadata": {},
   "outputs": [],
   "source": []
  },
  {
   "cell_type": "code",
   "execution_count": null,
   "id": "14c5a2bf-055a-4538-a727-190d83e996bc",
   "metadata": {
    "tags": []
   },
   "outputs": [],
   "source": [
    "int k;\n",
    "k = 30;\n",
    "\n",
    "//imprime todos los números desde 0 hasta k\n",
    "\n",
    "boolean found = false;\n",
    "\n",
    "for(int valorAImprimir = 0; !found; valorAImprimir++){\n",
    "    print(valorAImprimir + \" \");\n",
    "    if(valorAImprimir == k){\n",
    "        found = true; //ha trobat el valor final que es k\n",
    "    }\n",
    "}"
   ]
  },
  {
   "cell_type": "code",
   "execution_count": null,
   "id": "3063b165-432a-4c4e-9db7-5ce6e756f582",
   "metadata": {},
   "outputs": [],
   "source": [
    "//Bucles amb while\n",
    "\n",
    "int max = 20;\n",
    "\n",
    "int inicial = 0\n",
    "while(inicial <= max){\n",
    "    //.....\n",
    "    \n",
    "    inicial++;\n",
    "}\n",
    "\n",
    "for (int inicial = 0; inicial <= max; inicial+){\n",
    "    //...\n",
    "}"
   ]
  },
  {
   "cell_type": "markdown",
   "id": "3736b720-c9a0-40a5-9a9f-bc494cdb1a6e",
   "metadata": {},
   "source": [
    "### Arrays"
   ]
  },
  {
   "cell_type": "code",
   "execution_count": 22,
   "id": "a6c2618b-d1bd-4639-908d-697fdcfae8cb",
   "metadata": {
    "execution": {
     "iopub.execute_input": "2023-04-27T09:08+0000",
     "iopub.status.busy": "2023-04-27T09:08+0000",
     "iopub.status.idle": "2023-04-27T09:08+0000",
     "shell.execute_reply": "2023-04-27T09:08+0000"
    },
    "tags": []
   },
   "outputs": [
    {
     "name": "stdout",
     "output_type": "stream",
     "text": [
      "[9.4, 8.0, 7.6, 9.7, 8.5, 7.4]\n",
      "9.4\n",
      "8.0\n",
      "Lina\n",
      "--------\n",
      "[Katy, Ruben, Nacho, Lina, Maria, Anghelo]\n",
      "Ruben\n",
      "[Katy, Rubén, Nacho, Lina, Maria, Anghelo]\n",
      "Rubén\n"
     ]
    }
   ],
   "source": [
    "double notaKaty = 9.4;\n",
    "double notaRuben = 8.0;\n",
    "double notaNacho = 7.6;\n",
    "double notaLina = 9.7;\n",
    "double notaMaria = 8.5;\n",
    "//....\n",
    "double notaAnghelo;\n",
    "notaAnghelo = 7.4;\n",
    "\n",
    "double[] notas  = {9.4, 8.0, 7.6, 9.7, 8.5, 7.4};\n",
    "\n",
    "String[] names = {\"Katy\", \"Ruben\", \"Nacho\", \n",
    "                 \"Lina\", \"Maria\", \"Anghelo\"};\n",
    "\n",
    "println(Arrays.toString(notas));\n",
    "println(notas[0]);\n",
    "println(notas[1]);\n",
    "println(names[3]);\n",
    "\n",
    "println(\"--------\");\n",
    "println(Arrays.toString(names));\n",
    "println(names[1]);\n",
    "names[1] = \"Rubén\";\n",
    "println(Arrays.toString(names));\n",
    "println(names[1]);\n"
   ]
  },
  {
   "cell_type": "code",
   "execution_count": 23,
   "id": "bb246166-6f85-4f95-8e04-c053f9a85794",
   "metadata": {
    "execution": {
     "iopub.execute_input": "2023-04-27T09:10+0000",
     "iopub.status.busy": "2023-04-27T09:10+0000",
     "iopub.status.idle": "2023-04-27T09:10+0000",
     "shell.execute_reply": "2023-04-27T09:10+0000"
    },
    "tags": []
   },
   "outputs": [
    {
     "name": "stdout",
     "output_type": "stream",
     "text": [
      "9.4\n",
      "4.5\n",
      "8.0\n",
      "7.6\n",
      "9.7\n",
      "3.6\n",
      "8.5\n",
      "7.4\n"
     ]
    }
   ],
   "source": [
    "double[] notas  = {9.4, 4.5, 8.0, 7.6, 9.7, 3.6, 8.5, 7.4};\n",
    "\n",
    "println(notas[0]);\n",
    "println(notas[1]);\n",
    "println(notas[2]);\n",
    "println(notas[3]);\n",
    "println(notas[4]);\n",
    "println(notas[5]);\n",
    "println(notas[6]);\n",
    "println(notas[7]);"
   ]
  },
  {
   "cell_type": "code",
   "execution_count": 28,
   "id": "da271aa5-3b96-416c-8d1c-a8e85f295c42",
   "metadata": {
    "execution": {
     "iopub.execute_input": "2023-04-27T09:40+0000",
     "iopub.status.busy": "2023-04-27T09:40+0000",
     "iopub.status.idle": "2023-04-27T09:40+0000",
     "shell.execute_reply": "2023-04-27T09:40+0000"
    },
    "tags": []
   },
   "outputs": [
    {
     "name": "stdout",
     "output_type": "stream",
     "text": [
      "La longitud del array notas es 8\n",
      "9.4\n",
      "8.0\n",
      "7.6\n",
      "9.7\n",
      "8.5\n",
      "7.4\n"
     ]
    }
   ],
   "source": [
    "double[] notas  = {9.4, 4.5, 8.0, 7.6, 9.7, 3.6, 8.5, 7.4};\n",
    "\n",
    "int longitud = notas.length;\n",
    "println(\"La longitud del array notas es \" + longitud);\n",
    "\n",
    "\n",
    "for(int index = 0; index < notas.length; index++){\n",
    "    if(notas[index] >= 5.0) \n",
    "        println(notas[index]);    \n",
    "}"
   ]
  },
  {
   "cell_type": "code",
   "execution_count": 31,
   "id": "0efaf889-af6f-457d-b3ac-05023400ffed",
   "metadata": {
    "execution": {
     "iopub.execute_input": "2023-04-27T09:49+0000",
     "iopub.status.busy": "2023-04-27T09:49+0000",
     "iopub.status.idle": "2023-04-27T09:49+0000",
     "shell.execute_reply": "2023-04-27T09:49+0000"
    },
    "tags": []
   },
   "outputs": [
    {
     "name": "stdout",
     "output_type": "stream",
     "text": [
      "Nota Media de la classe es 7.3375\n",
      "Nota Media de la classe es 7,34 \n"
     ]
    }
   ],
   "source": [
    "double[] notas  = {9.4, 4.5, 8.0, 7.6, 9.7, 3.6, 8.5, 7.4};\n",
    "\n",
    "double suma = 0.0;\n",
    "\n",
    "for(int index = 0; index < notas.length; index++){\n",
    "    suma = suma + notas[index];\n",
    "}\n",
    "\n",
    "println(\"Nota Media de la classe es \" + suma / notas.length);\n",
    "printf(\"Nota Media de la classe es %.2f %n\", suma / notas.length);"
   ]
  },
  {
   "cell_type": "markdown",
   "id": "0929adc7-191a-47b2-a661-665774e5c643",
   "metadata": {
    "execution": {
     "iopub.execute_input": "2023-04-27T11:58+0000",
     "iopub.status.busy": "2023-04-27T11:58+0000",
     "iopub.status.idle": "2023-04-27T11:58+0000",
     "shell.execute_reply": "2023-04-27T11:58+0000"
    },
    "tags": []
   },
   "source": [
    "### Exercici: números primos\n",
    "\n",
    "Dado un número entero n, crea un snippet en Java que te imprima\n",
    "true si n es primo, o te imprima false si n no es primo.\n",
    "\n",
    "Recordatorio: un número primo es aquel número entero\n",
    "que **sólo** es divisible por sí mismo y por 1.\n",
    "\n",
    "Pistas:\n",
    "- Para saber si un número es divisible por otro podeis utilizar\n",
    "el operador módulo (%)\n",
    "- Habrá que usar un bucle.\n",
    "\n",
    "\n",
    "\n",
    "void printIsPrime(int n) {\n",
    "\n",
    "    boolean isPrime = true;\n",
    "\n",
    "    boolean found = false;\n",
    "\n",
    "    for(int num = 2; num < n && !found; num++){\n",
    "        if(n % num == 0){\n",
    "            isPrime = false;\n",
    "            found = true;\n",
    "        }\n",
    "    }\n",
    "\n",
    "    println(isPrime);\n",
    "}\n",
    "\n",
    "printIsPrime(21);\n",
    "printIsPrime(17);\n",
    "printIsPrime(544321);"
   ]
  },
  {
   "cell_type": "code",
   "execution_count": 52,
   "id": "4da67f31-a19f-485f-a8af-7482cab31fc1",
   "metadata": {
    "execution": {
     "iopub.execute_input": "2023-04-27T11:52+0000",
     "iopub.status.busy": "2023-04-27T11:52+0000",
     "iopub.status.idle": "2023-04-27T11:52+0000",
     "shell.execute_reply": "2023-04-27T11:52+0000"
    },
    "tags": []
   },
   "outputs": [
    {
     "name": "stdout",
     "output_type": "stream",
     "text": [
      "true"
     ]
    }
   ],
   "source": [
    "void print17IsPrime() {\n",
    "    int n = 17;\n",
    "\n",
    "    boolean isPrime = true;\n",
    "\n",
    "    boolean found = false;\n",
    "\n",
    "    for(int num = 2; num < n && !found; num++){\n",
    "        if(n % num == 0){\n",
    "            isPrime = false;\n",
    "            found = true;\n",
    "        }\n",
    "    }\n",
    "\n",
    "    print(isPrime);\n",
    "}\n",
    "\n",
    "print17IsPrime();"
   ]
  },
  {
   "cell_type": "code",
   "execution_count": 60,
   "id": "88411556-1913-456e-9453-cefc5b64d1e9",
   "metadata": {
    "execution": {
     "iopub.execute_input": "2023-04-27T12:01+0000",
     "iopub.status.busy": "2023-04-27T12:01+0000",
     "iopub.status.idle": "2023-04-27T12:01+0000",
     "shell.execute_reply": "2023-04-27T12:01+0000"
    },
    "tags": []
   },
   "outputs": [
    {
     "name": "stdout",
     "output_type": "stream",
     "text": [
      "3x1 = 3\n",
      "3x2 = 6\n",
      "3x3 = 9\n",
      "3x4 = 12\n",
      "3x5 = 15\n",
      "3x6 = 18\n",
      "3x7 = 21\n",
      "3x8 = 24\n",
      "3x9 = 27\n",
      "3x10 = 30\n",
      "7x1 = 7\n",
      "7x2 = 14\n",
      "7x3 = 21\n",
      "7x4 = 28\n",
      "7x5 = 35\n",
      "7x6 = 42\n",
      "7x7 = 49\n",
      "7x8 = 56\n",
      "7x9 = 63\n",
      "7x10 = 70\n"
     ]
    }
   ],
   "source": [
    "void tabla(int n){\n",
    "    for(int variableAMultiplicar = 1; variableAMultiplicar <= 10; variableAMultiplicar++){\n",
    "        int result = n*variableAMultiplicar;\n",
    "        printf(\"%dx%d = %d%n\", n, variableAMultiplicar, result);\n",
    "    }\n",
    "}\n",
    "tabla(3);\n",
    "tabla(7);"
   ]
  },
  {
   "cell_type": "code",
   "execution_count": 61,
   "id": "48662286-e8a2-4594-b22a-4198f62a197d",
   "metadata": {
    "execution": {
     "iopub.execute_input": "2023-04-27T12:06+0000",
     "iopub.status.busy": "2023-04-27T12:06+0000",
     "iopub.status.idle": "2023-04-27T12:06+0000",
     "shell.execute_reply": "2023-04-27T12:06+0000"
    },
    "tags": []
   },
   "outputs": [
    {
     "name": "stdout",
     "output_type": "stream",
     "text": [
      "4 + 5 = 9\n",
      "4556 + 345 = 4901\n"
     ]
    }
   ],
   "source": [
    "//Feu una funció que donats\n",
    "//dos enters a i b\n",
    "//imprimeixi la seva sum\n",
    "\n",
    "void suma(int a, int b){\n",
    "    printf(\"%d + %d = %d%n\", a, b, a + b);\n",
    "}\n",
    "suma(4,5);\n",
    "suma(4556,345);"
   ]
  }
 ],
 "metadata": {
  "kernelspec": {
   "display_name": "Java",
   "language": "java",
   "name": "java"
  },
  "language_info": {
   "codemirror_mode": "java",
   "file_extension": ".jshell",
   "mimetype": "text/x-java-source",
   "name": "Java",
   "pygments_lexer": "java",
   "version": "17.0.6+10-LTS"
  }
 },
 "nbformat": 4,
 "nbformat_minor": 5
}
