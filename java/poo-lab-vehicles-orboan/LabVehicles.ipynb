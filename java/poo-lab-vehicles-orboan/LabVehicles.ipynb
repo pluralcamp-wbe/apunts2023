{
 "cells": [
  {
   "cell_type": "markdown",
   "id": "d18d7501-4851-4aa5-8f71-99ebc38a3148",
   "metadata": {},
   "source": [
    "# Lab: Vehicles Contaminants "
   ]
  },
  {
   "cell_type": "markdown",
   "id": "77fd0212-bb61-4ab6-9f02-570c1fedf19f",
   "metadata": {},
   "source": [
    "Una empresa fabricant de vehicles, anomenada \"**Avaricia**\", segueix fabricant vehicles contaminants. _Volen fer beneficis a costa de seguir destruint el planeta i el futur dels nostres fills_. **Tots els seus vehicles funcionen amb gasolina (petroli), i emeten quantitats importants de CO2 a l'atmòsfera**."
   ]
  },
  {
   "cell_type": "markdown",
   "id": "f6e904dd-a5d4-47ad-b65c-f213e60bd9cc",
   "metadata": {},
   "source": [
    "Per altra banda, el Govern català s'ha posat al dia i ha aconseguit que tota l'electricitat del país funcioni amb **energies renovables** (no contaminants). Així, **un tren** (que funciona amb electricitat) **ja no contamina**."
   ]
  },
  {
   "cell_type": "markdown",
   "id": "888d2c91-49a1-46de-9281-5f6a49405683",
   "metadata": {},
   "source": [
    "***\n",
    "Crea un nou projecte Java a vscode, anomenat **LabVehicles**. Aquest projecte et serveix per a fer una petita aplicació Java que compleixi els següents requeriments:"
   ]
  },
  {
   "cell_type": "markdown",
   "id": "8008fa90-33a5-4048-97bb-0ef9399df8e9",
   "metadata": {},
   "source": [
    "## Fase 1\n",
    "\n",
    "- Crea una classe amb el nom App, que tindrà el punt d'entrada a l'aplicació, és a dir, el mètode main().\n",
    "- Crea una classe que representi un cotxe, que es pot anomenar Cotxe o Car.\n",
    "- Crea una classe que representi una moto.\n",
    "- Crea una classe que representi un autobus (o bus).\n",
    "- Crea una classe que representi un tren.\n",
    "\n",
    "Un cop creades aquestes classes, pensa 3 atributs i 3 mètodes per a cadascuna (els mètodes no poden ser els setters, ni els getters ni els constructors). Per exemple, per a la classe Car podríem crear un mètode anomenat ```accelera()``` i un atribut anomenat ```color``` (de tipus String)."
   ]
  },
  {
   "cell_type": "markdown",
   "id": "419cc1e6-6906-4edb-ad62-258f2e895d29",
   "metadata": {},
   "source": [
    "Des del main() instancia un objecte de cada classe i fes que executi algun dels mètodes. Per exemple:\n",
    "\n",
    "```java\n",
    "Car car = new Car();\n",
    "car.accelera();\n",
    "```"
   ]
  },
  {
   "cell_type": "markdown",
   "id": "a1cf985a-3ff7-4263-ae8c-0c6459185792",
   "metadata": {},
   "source": [
    "_Nota_: per a que es vegi que cada mètode és cridat o executat, posa-hi dins del mètode un ```System.out.println()``` que informi per pantalla que el mètode ha estat cridat. Per exemple:\n",
    "\n",
    "```java\n",
    "public void accelera(){\n",
    "    System.out.println(\"Cotxe accelerant...\");\n",
    "}\n",
    "```"
   ]
  },
  {
   "cell_type": "markdown",
   "id": "bdaf25d2-3fcc-4538-b028-2c1337451a05",
   "metadata": {},
   "source": [
    "## Fase 2\n",
    "\n",
    "- Pensa quins dels mètodes i atributs, que has posat a cada classe, són atributs o mètodes que **són comuns a totes les classes**. **GENERALITZA** i crea una superclasse anomenada ```Vehicle```. Mou els mètodes i atributs comuns a la superclasse.\n",
    "- Al mètode main(), els objectes que has creat a la fase 1, i abans de cridar qualsevol mètode, els has de posar en un array de vehicles. Recorre l'array amb un bucle i crida un mètode (el que vulguis). S'ha de veure per pantalla el mètode cridat i el tipus de vehicle que el crida."
   ]
  },
  {
   "cell_type": "markdown",
   "id": "b82ecee2-d480-402e-abe5-0521c4e4a91d",
   "metadata": {},
   "source": [
    "## Fase 3\n",
    "\n",
    "- Crea una interfície anomenada ```Polluter``` que tindrà dos mètodes:\n",
    "    * Un mètode abstracte anomenat ```expulsaCO2()```.\n",
    "    * Un mètode _default_ anomenat ```carburant()```, amb la següent implementació:\n",
    "    \n",
    "    ```java\n",
    "    System.out.println(\"My carburant is Gasoline\");\n",
    "    ```\n",
    "- Fes que els vehicles que fabrica l'empresa \"**Avaricia**\" implementin la interfície ```Polluter```. Cada vehicle contaminant podrà emetre a l'atmòsfera una quantitat de CO2 diferent, que mostrareu per pantalla.\n",
    "- Crea un altre array al mètode main(), de tipus _Polluter_. Omple'l com a mínim amb un cotxe, una moto i un bus. Fes un bucle que recorri l'array i executi els dos mètodes de la interfície."
   ]
  },
  {
   "cell_type": "code",
   "execution_count": null,
   "id": "16e51ed5-679b-4b49-a64a-f8ff3376a29f",
   "metadata": {},
   "outputs": [],
   "source": []
  }
 ],
 "metadata": {
  "kernelspec": {
   "display_name": "Java",
   "language": "java",
   "name": "java"
  },
  "language_info": {
   "codemirror_mode": "java",
   "file_extension": ".jshell",
   "mimetype": "text/x-java-source",
   "name": "Java",
   "pygments_lexer": "java",
   "version": "17.0.6+10-LTS"
  }
 },
 "nbformat": 4,
 "nbformat_minor": 5
}
